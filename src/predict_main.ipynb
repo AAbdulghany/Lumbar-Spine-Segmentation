{
 "cells": [
  {
   "cell_type": "code",
   "execution_count": 26,
   "metadata": {},
   "outputs": [
    {
     "name": "stdout",
     "output_type": "stream",
     "text": [
      "False\n",
      "Device: cpu\n"
     ]
    }
   ],
   "source": [
    "import torch\n",
    "from model.unet_modified import UNet\n",
    "from dataset import *\n",
    "import matplotlib.pyplot as plt\n",
    "import SimpleITK as sitk\n",
    "import os\n",
    "import numpy as np\n",
    "\n",
    "# Plotting function\n",
    "def plot_results(input_image, original_mask, predicted_mask):\n",
    "    fig, axes = plt.subplots(1, 3, figsize=(18, 6))\n",
    "    \n",
    "    input_image_np = extract_sagittal_view_(input_image.squeeze().cpu().numpy())\n",
    "    original_mask_np = extract_sagittal_view_(original_mask.squeeze().cpu().numpy())\n",
    "    predicted_mask_np = extract_sagittal_view_(predicted_mask.squeeze().cpu().numpy())\n",
    "    \n",
    "    # Plot original image\n",
    "    axes[0].imshow(input_image_np, cmap='gray')\n",
    "    axes[0].set_title('Original Image')\n",
    "    \n",
    "    # # Plot original mask\n",
    "    # axes[1].imshow(original_mask_np, cmap='jet')\n",
    "    # axes[1].set_title('Original Mask')\n",
    "    \n",
    "    # Plot predicted mask\n",
    "    axes[2].imshow(predicted_mask_np, cmap='jet')\n",
    "    axes[2].set_title('Predicted Mask')\n",
    "    \n",
    "    for ax in axes:\n",
    "        ax.axis('off')\n",
    "    \n",
    "    plt.show()\n",
    "\n",
    "def extract_sagittal_view_(img_array):\n",
    "    \"\"\"\n",
    "    Extract the sagittal view from a 3D numpy array.\n",
    "    Compute the mean along the x-axis and return the middle slice.\n",
    "    \"\"\"\n",
    "    mean_x_axis = img_array.shape[0] // 2\n",
    "    sagittal_view = img_array[mean_x_axis, :, :]\n",
    "    sagittal_view = np.rot90(sagittal_view)\n",
    "    sagittal_view = np.flipud(sagittal_view)\n",
    "    return sagittal_view\n",
    "    \n",
    "\n",
    "# Set the paths\n",
    "base_path = '../inputs/'\n",
    "overview_path = os.path.join(base_path, 'overview.csv')\n",
    "image_path = os.path.join(base_path, 'images/')\n",
    "mask_path = os.path.join(base_path, 'masks/')\n",
    "sagittal_view_list = {}\n",
    "mask_list = {}\n",
    "\n",
    "predicted_images = ['24_t2']\n",
    "original_masks = ['24_t2']\n",
    "\n",
    "# resampling the images and masks\n",
    "resampled_images = resample_image_sitk(image_path, predicted_images, target_shape= TARGET_SHAPE, files_numbers=1)\n",
    "resampled_masks = resample_image_sitk(mask_path, original_masks, target_shape= TARGET_SHAPE, files_numbers=1)\n",
    "\n",
    "device = torch.device('cpu')\n",
    "print(torch.cuda.is_available())\n",
    "print(\"Device:\",device)\n",
    "\n",
    "def load_nii_to_tensor(path):\n",
    "    image = sitk.ReadImage(path)\n",
    "    image_array = sitk.GetArrayFromImage(image)\n",
    "    image_array = torch.tensor(image_array, dtype=torch.float32).to(device)\n",
    "    return image_array\n",
    "\n",
    "prediction_images = [load_nii_to_tensor(image) for image in resampled_images]\n",
    "original_masks = [load_nii_to_tensor(image) for image in resampled_masks]\n"
   ]
  },
  {
   "cell_type": "code",
   "execution_count": 27,
   "metadata": {},
   "outputs": [],
   "source": [
    "class MRIDataset(Dataset):\n",
    "    def __init__(self, images, masks):\n",
    "        self.images = images\n",
    "        self.masks = masks\n",
    "    \n",
    "    def __len__(self):\n",
    "        return len(self.images)\n",
    "    \n",
    "    def __getitem__(self, idx):\n",
    "        # Ensure the images and masks are in (C, D, H, W) format, where C is the channel dimension\n",
    "        image = self.images[idx]\n",
    "        mask = self.masks[idx]\n",
    "        if len(image.shape) == 3:  # if there is no channel dimension\n",
    "            image = image.unsqueeze(0)  # Add channel dimension at position 0\n",
    "        if len(mask.shape) == 3:  # if there is no channel dimension\n",
    "            mask = mask.unsqueeze(0)  # Add channel dimension at position 0\n",
    "        \n",
    "        # Ensure the mask has the same number of channels as the output\n",
    "        if mask.shape[0] != 20:\n",
    "            mask = mask.repeat(20, 1, 1, 1)  # Repeat mask along the channel dimension\n",
    "\n",
    "        return image, mask\n",
    "\n",
    "# Assuming `images` and `masks` are lists of 3D tensors\n",
    "training_dataset = MRIDataset(prediction_images, original_masks)\n",
    "dataloader = DataLoader(training_dataset, batch_size=1, shuffle=True)"
   ]
  },
  {
   "cell_type": "code",
   "execution_count": 28,
   "metadata": {},
   "outputs": [
    {
     "name": "stdout",
     "output_type": "stream",
     "text": [
      "Input shape: torch.Size([1, 1, 128, 128, 64])\n",
      "Shape after initial conv: torch.Size([1, 64, 128, 128, 64])\n",
      "Shape after down1: torch.Size([1, 128, 64, 64, 32])\n",
      "Shape after down2: torch.Size([1, 256, 32, 32, 16])\n",
      "Shape after down3: torch.Size([1, 512, 16, 16, 8])\n",
      "Shape after down4: torch.Size([1, 512, 8, 8, 4])\n",
      "Shape after up1: torch.Size([1, 256, 16, 16, 8])\n",
      "Shape after up2: torch.Size([1, 128, 32, 32, 16])\n",
      "Shape after up3: torch.Size([1, 64, 64, 64, 32])\n",
      "Shape after up4: torch.Size([1, 64, 128, 128, 64])\n",
      "Output shape: torch.Size([1, 20, 128, 128, 64])\n"
     ]
    },
    {
     "data": {
      "image/png": "[encoded data removed]",
      "text/plain": [
       "<Figure size 1800x600 with 3 Axes>"
      ]
     },
     "metadata": {},
     "output_type": "display_data"
    },
    {
     "name": "stdout",
     "output_type": "stream",
     "text": [
      "Input shape: torch.Size([1, 128, 128, 64])\n",
      "Output shape: torch.Size([1, 20, 128, 128, 64])\n",
      "Segmentation shape: torch.Size([1, 128, 128, 64])\n",
      "Segmentation (numpy) shape: (1, 128, 128, 64)\n"
     ]
    }
   ],
   "source": [
    "model = UNet(n_channels=1, n_classes=20)\n",
    "# Load the entire checkpoint\n",
    "checkpoint = torch.load(\"model.pth\")\n",
    "\n",
    "# Extract the model state dictionary\n",
    "model.load_state_dict(checkpoint['model_state_dict'])\n",
    "model.eval()\n",
    "\n",
    "# Example function to preprocess the input image\n",
    "def preprocess_image(image):\n",
    "    if len(image.shape) == 3:  # If there is no channel dimension\n",
    "        image = image.unsqueeze(0)  # Add channel dimension at position 0\n",
    "    return image\n",
    "\n",
    "# Example function to post-process the output\n",
    "def postprocess_output(output):\n",
    "    # Assuming you want to take the argmax across the channel dimension\n",
    "    return torch.argmax(output, dim=1)\n",
    "\n",
    "for img, mask in dataloader:\n",
    "    input_image = img[0]\n",
    "    original_mask = mask[0]\n",
    "    \n",
    "    input_image = preprocess_image(input_image)\n",
    "    original_mask = preprocess_image(original_mask)\n",
    "\n",
    "    with torch.no_grad():\n",
    "        output = model(input_image.unsqueeze(0))  # Add batch dimension\n",
    "        predicted_mask = postprocess_output(output)\n",
    "\n",
    "    # Plot the results\n",
    "    plot_results(input_image, original_mask, predicted_mask)\n",
    "\n",
    "    # Print the shapes to verify\n",
    "    print(f\"Input shape: {input_image.shape}\")\n",
    "    print(f\"Output shape: {output.shape}\")\n",
    "    print(f\"Segmentation shape: {predicted_mask.shape}\")\n",
    "\n",
    "    # If you need to convert the segmentation to numpy for further processing\n",
    "    segmentation_numpy = predicted_mask.cpu().numpy()\n",
    "    print(f\"Segmentation (numpy) shape: {segmentation_numpy.shape}\")"
   ]
  }
 ],
 "metadata": {
  "kernelspec": {
   "display_name": "base",
   "language": "python",
   "name": "python3"
  },
  "language_info": {
   "codemirror_mode": {
    "name": "ipython",
    "version": 3
   },
   "file_extension": ".py",
   "mimetype": "text/x-python",
   "name": "python",
   "nbconvert_exporter": "python",
   "pygments_lexer": "ipython3",
   "version": "3.11.5"
  }
 },
 "nbformat": 4,
 "nbformat_minor": 2
}
